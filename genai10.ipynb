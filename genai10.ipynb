{
 "cells": [
  {
   "cell_type": "code",
   "execution_count": null,
   "id": "d2f3d67a-3b07-4780-ae58-f06fbaac5c8d",
   "metadata": {},
   "outputs": [
    {
     "name": "stdout",
     "output_type": "stream",
     "text": [
      "\n",
      "⚖️ Welcome to the IPC Chatbot! Ask me about any IPC section (e.g., 'Tell me about Section 6'). Type 'exit' to quit. ⚖️\n",
      "\n"
     ]
    },
    {
     "name": "stdin",
     "output_type": "stream",
     "text": [
      "You:  section 6\n"
     ]
    },
    {
     "name": "stdout",
     "output_type": "stream",
     "text": [
      "\n",
      "📖 Section 6: Definitions in the Code to be understood subject to exceptions\n",
      "📝 Whenever the word 'offence' is used in the Code, it should be interpreted subject to the general and special exceptions provided.\n",
      "\n"
     ]
    },
    {
     "name": "stdin",
     "output_type": "stream",
     "text": [
      "You:  section 141\n"
     ]
    },
    {
     "name": "stdout",
     "output_type": "stream",
     "text": [
      "\n",
      "📖 Section 141: Unlawful assembly\n",
      "📝 An assembly of five or more persons is designated an 'unlawful assembly' if the common object is to overawe the government, resist law, or commit offences.\n",
      "\n"
     ]
    },
    {
     "name": "stdin",
     "output_type": "stream",
     "text": [
      "You:  302\n"
     ]
    },
    {
     "name": "stdout",
     "output_type": "stream",
     "text": [
      "🤔 Please ask about a specific section (e.g., 'Tell me about Section 6').\n"
     ]
    },
    {
     "name": "stdin",
     "output_type": "stream",
     "text": [
      "You:  section 302\n"
     ]
    },
    {
     "name": "stdout",
     "output_type": "stream",
     "text": [
      "\n",
      "📖 Section 302: Punishment for murder\n",
      "📝 Whoever commits murder shall be punished with death or imprisonment for life, and shall also be liable to fine.\n",
      "\n"
     ]
    },
    {
     "name": "stdin",
     "output_type": "stream",
     "text": [
      "You:  section 304\n"
     ]
    },
    {
     "name": "stdout",
     "output_type": "stream",
     "text": [
      "\n",
      "📖 Section 304: Punishment for culpable homicide not amounting to murder\n",
      "📝 Punishment may include imprisonment for life or up to ten years depending on intention and gravity.\n",
      "\n"
     ]
    }
   ],
   "source": [
    "import json\n",
    "\n",
    "# Load IPC JSON data\n",
    "def load_ipc_data(file_path=\"ipc.json\"):\n",
    "    with open(file_path, \"r\", encoding=\"utf-8\") as file:\n",
    "        return json.load(file)\n",
    "\n",
    "\n",
    "def get_section_details(ipc_data, section_number):\n",
    "    for chapter, details in ipc_data[\"Indian Penal Code\"].items():\n",
    "        if \"sections\" in details and section_number in details[\"sections\"]:\n",
    "            return details[\"sections\"][section_number]\n",
    "    return None\n",
    "\n",
    "\n",
    "def ipc_chatbot():\n",
    "    ipc_data = load_ipc_data()\n",
    "    print(\"\\n⚖️ Welcome to the IPC Chatbot! Ask me about any IPC section (e.g., 'Tell me about Section 6'). Type 'exit' to quit. ⚖️\\n\")\n",
    "    \n",
    "    while True:\n",
    "        user_input = input(\"You: \").strip().lower()\n",
    "        \n",
    "        if user_input == \"exit\":\n",
    "            print(\"👋 Exiting IPC Chatbot. Have a great day!\")\n",
    "            break\n",
    "        \n",
    "        words = user_input.split()\n",
    "        section_number = None\n",
    "        for i, word in enumerate(words):\n",
    "            if word == \"section\" and i + 1 < len(words):\n",
    "                section_number = \"Section \" + words[i + 1]\n",
    "                break\n",
    "        \n",
    "        if section_number:\n",
    "            details = get_section_details(ipc_data, section_number)\n",
    "            if details:\n",
    "                print(f\"\\n📖 {section_number}: {details['title']}\\n📝 {details['description']}\\n\")\n",
    "            else:\n",
    "                print(f\"⚠️ Sorry, I couldn't find {section_number} in the IPC data.\")\n",
    "        else:\n",
    "            print(\"🤔 Please ask about a specific section (e.g., 'Tell me about Section 6').\")\n",
    "\n",
    "# Run the chatbot\n",
    "if __name__ == \"__main__\":\n",
    "    ipc_chatbot()"
   ]
  },
  {
   "cell_type": "code",
   "execution_count": null,
   "id": "e86b534e-d1c3-43df-86ad-a17286e62c34",
   "metadata": {},
   "outputs": [],
   "source": []
  }
 ],
 "metadata": {
  "kernelspec": {
   "display_name": "Python (myenv)",
   "language": "python",
   "name": "myenv"
  },
  "language_info": {
   "codemirror_mode": {
    "name": "ipython",
    "version": 3
   },
   "file_extension": ".py",
   "mimetype": "text/x-python",
   "name": "python",
   "nbconvert_exporter": "python",
   "pygments_lexer": "ipython3",
   "version": "3.11.9"
  }
 },
 "nbformat": 4,
 "nbformat_minor": 5
}
