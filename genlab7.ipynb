{
 "cells": [
  {
   "cell_type": "code",
   "execution_count": 4,
   "id": "3ecb7c8e-12cb-4350-b77a-d688186421e8",
   "metadata": {},
   "outputs": [
    {
     "name": "stderr",
     "output_type": "stream",
     "text": [
      "No model was supplied, defaulted to sshleifer/distilbart-cnn-12-6 and revision a4f8f3e (https://huggingface.co/sshleifer/distilbart-cnn-12-6).\n",
      "Using a pipeline without specifying a model name and revision in production is not recommended.\n",
      "Device set to use cpu\n"
     ]
    }
   ],
   "source": [
    "from transformers import pipeline\n",
    "summarizer = pipeline(\"summarization\")"
   ]
  },
  {
   "cell_type": "code",
   "execution_count": 5,
   "id": "2896d0e5-23eb-4c57-b00f-45fabe3eed18",
   "metadata": {},
   "outputs": [
    {
     "name": "stdout",
     "output_type": "stream",
     "text": [
      " The Hugging Face Transformers library provides an easy-to-use interface for various natural language processing tasks . It leverages pre-trained models like BERT, GPT, and T5 to generate concise summaries .\n"
     ]
    }
   ],
   "source": [
    "\n",
    "passage = \"\"\"\n",
    "The Hugging Face Transformers library provides an easy-to-use interface for various natural language processing tasks, including text summarization. \n",
    "It leverages pre-trained models like BERT, GPT, and T5 to generate concise summaries of long texts. \n",
    "These models are trained on large datasets and can produce high-quality summaries that capture the main points of the input text. \n",
    "To use the summarization pipeline, you simply need to load the model and pass the text you want to summarize. \n",
    "The pipeline will handle the rest, returning a summarized version of the text.\n",
    "\"\"\"\n",
    "summary = summarizer(passage, max_length=50, min_length=25, do_sample=False)\n",
    "print(summary[0]['summary_text'])"
   ]
  },
  {
   "cell_type": "code",
   "execution_count": null,
   "id": "d71eec47-f2df-4047-bc54-d20483c9df41",
   "metadata": {},
   "outputs": [],
   "source": []
  }
 ],
 "metadata": {
  "kernelspec": {
   "display_name": "Python 3 (ipykernel)",
   "language": "python",
   "name": "python3"
  },
  "language_info": {
   "codemirror_mode": {
    "name": "ipython",
    "version": 3
   },
   "file_extension": ".py",
   "mimetype": "text/x-python",
   "name": "python",
   "nbconvert_exporter": "python",
   "pygments_lexer": "ipython3",
   "version": "3.11.9"
  }
 },
 "nbformat": 4,
 "nbformat_minor": 5
}
