{
 "cells": [
  {
   "cell_type": "code",
   "execution_count": 20,
   "id": "63920fe2-1d41-421f-971d-cb7e792b6961",
   "metadata": {},
   "outputs": [],
   "source": [
    "from pydantic import BaseModel\n",
    "\n",
    "class InstitutionDetails(BaseModel):\n",
    "    founder: str\n",
    "    founded_year: int\n",
    "    branches: list[str]\n",
    "    employee_count: int\n",
    "    summary: str"
   ]
  },
  {
   "cell_type": "code",
   "execution_count": 21,
   "id": "769f8b6b-6368-4714-8e79-86fe2d1124c9",
   "metadata": {},
   "outputs": [],
   "source": [
    "import wikipediaapi\n",
    "\n",
    "def fetch_wikipedia_data(institution_name: str) -> str:\n",
    "    user_agent = \"MyWikipediaBot/1.0 (https://example.com; myemail@example.com)\"\n",
    "    wiki_wiki = wikipediaapi.Wikipedia(user_agent=user_agent, language='en')\n",
    "    page = wiki_wiki.page(institution_name)\n",
    "    if not page.exists():\n",
    "        raise ValueError(f\"Wikipedia page for '{institution_name}' not found.\")\n",
    "    return page.text"
   ]
  },
  {
   "cell_type": "code",
   "execution_count": 22,
   "id": "5ab63b80-ec79-4282-ba92-4843e7316355",
   "metadata": {},
   "outputs": [],
   "source": [
    "import re\n",
    "\n",
    "def extract_institution_details(text: str) -> InstitutionDetails:\n",
    "    founder_match = re.search(r\"founded by ([\\w\\s]+)\", text, re.IGNORECASE)\n",
    "    founder = founder_match.group(1) if founder_match else \"Unknown\"\n",
    "\n",
    "    year_match = re.search(r\"founded in (\\d{4})\", text, re.IGNORECASE)\n",
    "    founded_year = int(year_match.group(1)) if year_match else 0\n",
    "\n",
    "    branches_match = re.findall(r\"branches in ([\\w\\s]+)\", text, re.IGNORECASE)\n",
    "    branches = branches_match if branches_match else [\"Unknown\"]\n",
    "\n",
    "    employee_match = re.search(r\"(\\d+,?\\d*) employees\", text, re.IGNORECASE)\n",
    "    employee_count = int(employee_match.group(1).replace(\",\", \"\")) if employee_match else 0\n",
    "\n",
    "    summary = \"\\n\".join(text.split(\"\\n\")[:4])\n",
    "\n",
    "    return InstitutionDetails(\n",
    "        founder=founder,\n",
    "        founded_year=founded_year,\n",
    "        branches=branches,\n",
    "        employee_count=employee_count,\n",
    "        summary=summary\n",
    "    )"
   ]
  },
  {
   "cell_type": "code",
   "execution_count": 23,
   "id": "3cd3ae78-c01c-4975-9062-37d90eea1728",
   "metadata": {},
   "outputs": [],
   "source": [
    "def get_institution_details(institution_name: str) -> InstitutionDetails:\n",
    "    wiki_text = fetch_wikipedia_data(institution_name)\n",
    "    details = extract_institution_details(wiki_text)\n",
    "\n",
    "    return details"
   ]
  },
  {
   "cell_type": "code",
   "execution_count": 37,
   "id": "b9fa6c06-8d87-4db2-920a-b8e721729259",
   "metadata": {},
   "outputs": [
    {
     "name": "stdout",
     "output_type": "stream",
     "text": [
      "founder='Unknown' founded_year=0 branches=['Unknown'] employee_count=0 summary=\"Indian Institute of Technology Delhi (IIT- Delhi) is a public institute of technology located in Delhi, India. It is one of the 23 Indian Institutes of Technology created to be a Centre of Excellence for India's training, research and development in science, engineering and technology.\\nEstablished in 1961, it was formally inaugurated in August 1961 by Humayun Kabir, Minister of Scientific Research & Cultural Affairs. The first admissions were made in 1961. The current campus has an area of 320 acres (or 1.3 km2) and is bound by the Sri Aurobindo Marg on the east, the Jawaharlal Nehru University Complex on the west, the National Council of Educational Research and Training on the south, and the New Ring Road on the north. It is flanked by Qutb Minar and the Hauz Khas monuments.\\nThe institute was later decreed in the Institutes of National Importance under the Institutes of Technology Amendment Act, 1963, and accorded the status of a full University with powers to decide its academic policy, conduct its examinations, and award its degrees.\\n\"\n"
     ]
    }
   ],
   "source": [
    "if __name__ == \"__main__\":\n",
    "    institution_name = \"IIT Delhi\"\n",
    "    details = get_institution_details(institution_name)\n",
    "    print(details)"
   ]
  },
  {
   "cell_type": "code",
   "execution_count": null,
   "id": "21005b7b-b8b4-419a-9c44-3db5c792087b",
   "metadata": {},
   "outputs": [],
   "source": [
    "import pydantic\n",
    "print(pydantic.__version__)"
   ]
  }
 ],
 "metadata": {
  "kernelspec": {
   "display_name": "Python (myenv)",
   "language": "python",
   "name": "myenv"
  },
  "language_info": {
   "codemirror_mode": {
    "name": "ipython",
    "version": 3
   },
   "file_extension": ".py",
   "mimetype": "text/x-python",
   "name": "python",
   "nbconvert_exporter": "python",
   "pygments_lexer": "ipython3",
   "version": "3.11.9"
  }
 },
 "nbformat": 4,
 "nbformat_minor": 5
}
