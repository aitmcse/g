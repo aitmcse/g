{
 "cells": [
  {
   "cell_type": "code",
   "execution_count": 2,
   "id": "f82e3956-b6a1-4c06-a150-a56e6de7523d",
   "metadata": {},
   "outputs": [
    {
     "name": "stderr",
     "output_type": "stream",
     "text": [
      "No model was supplied, defaulted to distilbert/distilbert-base-uncased-finetuned-sst-2-english and revision 714eb0f (https://huggingface.co/distilbert/distilbert-base-uncased-finetuned-sst-2-english).\n",
      "Using a pipeline without specifying a model name and revision in production is not recommended.\n",
      "Device set to use cpu\n"
     ]
    },
    {
     "name": "stdout",
     "output_type": "stream",
     "text": [
      "Sentence: I love using Hugging Face models, they are amazing!\n",
      "Sentiment: POSITIVE, Confidence: 0.9999\n",
      "--------------------------------------------------\n",
      "Sentence: The weather today is terrible and I feel so sad.\n",
      "Sentiment: NEGATIVE, Confidence: 0.9992\n",
      "--------------------------------------------------\n",
      "Sentence: This is the best day of my life!\n",
      "Sentiment: POSITIVE, Confidence: 0.9999\n",
      "--------------------------------------------------\n",
      "Sentence: I'm not sure how I feel about this.\n",
      "Sentiment: NEGATIVE, Confidence: 0.9992\n",
      "--------------------------------------------------\n"
     ]
    }
   ],
   "source": [
    "from transformers import pipeline\n",
    "\n",
    "\n",
    "sentiment_analyzer = pipeline(\"sentiment-analysis\")\n",
    "\n",
    "sentences = [\n",
    "    \"I love using Hugging Face models, they are amazing!\",\n",
    "    \"The weather today is terrible and I feel so sad.\",\n",
    "    \"This is the best day of my life!\",\n",
    "    \"I'm not sure how I feel about this.\"\n",
    "]\n",
    "\n",
    "\n",
    "results = sentiment_analyzer(sentences)\n",
    "\n",
    "for sentence, result in zip(sentences, results):\n",
    "    print(f\"Sentence: {sentence}\")\n",
    "    print(f\"Sentiment: {result['label']}, Confidence: {result['score']:.4f}\")\n",
    "    print(\"-\" * 50)"
   ]
  },
  {
   "cell_type": "code",
   "execution_count": null,
   "id": "b03a2688-4f5b-4c10-99a5-511862c6db9d",
   "metadata": {},
   "outputs": [],
   "source": []
  }
 ],
 "metadata": {
  "kernelspec": {
   "display_name": "Python 3 (ipykernel)",
   "language": "python",
   "name": "python3"
  },
  "language_info": {
   "codemirror_mode": {
    "name": "ipython",
    "version": 3
   },
   "file_extension": ".py",
   "mimetype": "text/x-python",
   "name": "python",
   "nbconvert_exporter": "python",
   "pygments_lexer": "ipython3",
   "version": "3.11.9"
  }
 },
 "nbformat": 4,
 "nbformat_minor": 5
}
