{
 "cells": [
  {
   "cell_type": "code",
   "execution_count": 1,
   "id": "79a30294-6862-4ef9-967b-c88a2688e6a6",
   "metadata": {},
   "outputs": [
    {
     "name": "stdout",
     "output_type": "stream",
     "text": [
      "Loading pre-trained word vectors...\n",
      "Model loaded successfully!\n",
      "\n",
      "Exploring word relationships using vector arithmetic:\n",
      "boy - man + woman = [('TERRIBLE', 0.45916804671287537)]\n",
      "Paris - France + Italy = [('Sydney', 0.7283503413200378)]\n",
      "walking - walk + run = [('running', 0.6465737223625183)]\n"
     ]
    }
   ],
   "source": [
    "import gensim.downloader as api\n",
    "\n",
    "\n",
    "\"\"\"Function to Load Pre-trained Word2Vec Model\n",
    "Prints a message indicating that the model is being loaded.\n",
    "Loads the Word2Vec model from gensim’s API.\n",
    "\n",
    "The model consists of 3 million words and phrases, each represented by a \n",
    "300-dimensional vector.\n",
    "\n",
    "Prints success message once the model is loaded.\n",
    "Returns the model so that other functions can use it.\n",
    "\"\"\"\n",
    "def load_word_vectors():\n",
    "    print(\"Loading pre-trained word vectors...\")\n",
    "    model = api.load(\"word2vec-google-news-300\")  # Loads Google's Word2Vec model\n",
    "    print(\"Model loaded successfully!\")\n",
    "    return model\n",
    "\n",
    "\"\"\"This function performs word vector arithmetic to understand word relationships.\n",
    "Word embeddings capture semantic meanings and relationships between words.\"\"\"\n",
    "\n",
    "def vector_arithmetic(model):\n",
    "    print(\"\\nExploring word relationships using vector arithmetic:\")\n",
    "    \n",
    "    # Example 1: King - Man + Woman = ?\n",
    "    result = model.most_similar(positive=[\"GOOD\", \"BAD\"], negative=[\"HAPPY\"], topn=1)\n",
    "    print(\"boy - man + woman =\", result)\n",
    "    \n",
    "    # Example 2: Paris - France + Italy = ?\n",
    "    result = model.most_similar(positive=[\"Delhi\", \"Australia\"], negative=[\"India\"], topn=1)\n",
    "    print(\"Paris - France + Italy =\", result)\n",
    "    \n",
    "    # Example 3: Walking - Walk + Run = ?\n",
    "    result = model.most_similar(positive=[\"walking\", \"run\"], negative=[\"walk\"], topn=1)\n",
    "    print(\"walking - walk + run =\", result)\n",
    "    \n",
    "def main():\n",
    "    model = load_word_vectors()\n",
    "    vector_arithmetic(model)\n",
    "\n",
    "if __name__ == \"__main__\":\n",
    "    main()"
   ]
  },
  {
   "cell_type": "code",
   "execution_count": null,
   "id": "893dd22c-e0af-4b30-b868-98eac7de7de4",
   "metadata": {},
   "outputs": [],
   "source": []
  }
 ],
 "metadata": {
  "kernelspec": {
   "display_name": "Python 3 (ipykernel)",
   "language": "python",
   "name": "python3"
  },
  "language_info": {
   "codemirror_mode": {
    "name": "ipython",
    "version": 3
   },
   "file_extension": ".py",
   "mimetype": "text/x-python",
   "name": "python",
   "nbconvert_exporter": "python",
   "pygments_lexer": "ipython3",
   "version": "3.11.9"
  }
 },
 "nbformat": 4,
 "nbformat_minor": 5
}
